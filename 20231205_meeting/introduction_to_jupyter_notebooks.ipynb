{
 "cells": [
  {
   "cell_type": "markdown",
   "metadata": {
    "id": "j_i6m4BPM4Z8"
   },
   "source": [
    "# Introduction to Jupyter Notebooks\n",
    "\n",
    "**Last Updated:** 2021-04-19\n",
    "\n",
    "Jupyter notebooks are a type of Python computing environment designed to provide a well-formatted interactive document. These notebooks often serve as the basis for scientific computing or data analysis in Python and can be a powerful tool for prototyping, documentation, and education. This module will provide a quick introduction to working with Jupyter notebooks (the same principles apply if you're working in Google Colab) and some additional tricks to help improve your experience."
   ]
  },
  {
   "cell_type": "markdown",
   "metadata": {
    "id": "ONTYqAzhM4Z-"
   },
   "source": [
    "## Table of Contents\n",
    "\n",
    "1. [The Cell System](#The-Cell-System)\n",
    "    - [Markdown Cells](#Markdown-Cells])\n",
    "    - [Code Cells](#Code-Cells])\n",
    "2. [Closing](#Closing)\n",
    "3. [Release Notes](#Release-Notes)"
   ]
  },
  {
   "cell_type": "markdown",
   "metadata": {
    "id": "VMd4QDYkM4aA"
   },
   "source": [
    "## The Cell System\n",
    "\n",
    "Unlike a Python text file or another document you may be familiar with, Jupyter notebooks are *modular*. They consist of small units called **cells** containing a small subset of the content in the notebook. Each cell generally comes in one of two flavors (there are other types of cells, but they are not necessary for working:\n",
    "\n",
    "1. **Markdown Cells**: Simple text like you would see in any standard document\n",
    "2. **Code Cells**: Executable Python code (with some additional functions)\n",
    "\n",
    "Cells of different types can be interspersed throughout a document, allowing you to write code and associated commentary in a single, integrated document. While this format may be initially unfamilliar, it will eventually become second nature as you continue working with future notebooks. Let's break down some of the details about the two types of cells."
   ]
  },
  {
   "cell_type": "markdown",
   "metadata": {
    "id": "IBVwXsv0M4aB"
   },
   "source": [
    "### Markdown Cells\n",
    "\n",
    "As mentioned before, **Markdown cells** are used for adding textual comments like other word documents or web pages. If you have any descriptions that wouldn't work as a code comment or want more complex formatting like tables, images, or hyperlinks, you will be using a Markdown cell.\n",
    "\n",
    "Markdown cells come in two states: **rendered** and **editing**. In rendered form, Markdown cells appear as if they were a rich text document or webpage, complete with fancy formatting (bold, italics), headers, and other stylizations. If you try to single-click on a Markdown cell, you should notice that a cursor is not inserted and that you actually *cannot edit the text*. To edit the text, you will have to double-click on the cell. This action will change the state to the *editing* state. The first thing you will notice is that *most* of the formatting will have disappeared, and the text now contains additional symbols or details. If you click somewhere in the cell, you will *now* see the editor cursor and edit the text. To switch the Markdown cell back to the rendered state, you can either use:\n",
    "\n",
    "1. `Control-Enter`: Change the cell to the rendered state\n",
    "2. `Shift-Enter`: Change the cell to the rendered state **and** enter/create the cell below it\n",
    "\n",
    "<caption> <b>Figure 1:</b> Comparison of the <i>editing state</i> (left) and the <i>rendered state</i> (right) </caption>\n",
    "\n",
    "![](https://github.com/anthony-agbay/introduction-to-python/blob/main/modules/introduction-to-jupyter-notebooks/jupyter-notebook-text-state.png?raw=1)\n",
    "\n",
    "As the name of the cell type indicates, Jupyter notebooks use a syntax called **Markdown** for formatting text. Instead of using a user interface or hotkeys to format text, you use a combination of symbols associated with the type of formatting you want. Below is a table of the most common Markdown formatting that you may need. If you need to include equations or other mathematical symbols, Jupyter notebooks support mathematics formatting via MathJax. Working with Markdown can take time to get used to but will eventually become second nature.\n",
    "\n",
    "#### Common Markdown Formatting\n",
    "\n",
    "|             Format             |                 Syntax                  |\n",
    "|:------------------------------:|:---------------------------------------:|\n",
    "|           Bold Text            |               `**Bold**`                |\n",
    "|        Italicized Text         |              `*Italics*`                |\n",
    "|             Images             | `![Description](URL or Path to Image)`  |\n",
    "|            Headers             | `# Level 1 Header \\| ## Level 2 Header` |\n",
    "|         Unordered List         |             `- List Item`               |\n",
    "|          Ordered List          |           `1. Ordered List`             |\n",
    "|       Inline Mathematics       |              `$\\pi r^2$`                |\n",
    "| Display (Centered) Mathematics |             `$$\\pi r^2$$`               |\n",
    "\n",
    "For more Markdown formatting information, refer to the [complete syntax documentation](https://docs.github.com/en/github/writing-on-github/basic-writing-and-formatting-syntax). For more details on MathJax formatting, there are a variety of online resources, including this [forum post](https://math.meta.stackexchange.com/questions/5020/mathjax-basic-tutorial-and-quick-reference)."
   ]
  },
  {
   "cell_type": "markdown",
   "metadata": {
    "id": "MYers4VGM4aD"
   },
   "source": [
    "### Code Cells\n",
    "\n",
    "Code cells are where you write and run your Python code. These blocks are similar to individual scripts but have some additional functionality:\n",
    "\n",
    "1. All of the variables, functions, etc. are *shared among all of the cells in a single document* after they are run\n",
    "2. Cells can be run in *arbitrary order* as long as all of the dependencies (imports, variable definitions, etc.) have been satisfied\n",
    "3. Outputs can be visualized *directly within the notebook itself*\n",
    "\n",
    "Throughout this guide, you will have the opportunity to gain some hands-on experience working with these code cells. However, let's walk through some examples to help illustrate how these cells work. If you aren't familiar with Python yet, don't worry—the remainder of this guide will walk you through all of the basics of the language. For now, focus on how code cells are run and how information is being passed and stored.\n",
    "\n",
    "First, let's do the canonical introduction for any new programming language or environment:"
   ]
  },
  {
   "cell_type": "code",
   "execution_count": 1,
   "metadata": {
    "id": "iQCB0U2YM4aF",
    "outputId": "5b726b16-de8c-4fe2-83c7-7914ceeaf75e"
   },
   "outputs": [
    {
     "name": "stdout",
     "output_type": "stream",
     "text": [
      "Hello, world!\n"
     ]
    }
   ],
   "source": [
    "print('Hello, world!')"
   ]
  },
  {
   "cell_type": "markdown",
   "metadata": {
    "id": "qfvLbwu8M4aH"
   },
   "source": [
    "The cell above contains a basic Python `print()` statement, which prints out the string, \"Hello, world!\" There are two ways to run this cell like a normal Python script (which align closely with the behavior for rendering Markdown cells):\n",
    "\n",
    "1. `Control-Enter`: Run the current cell\n",
    "2. `Shift-Enter`: Run the current cell and move/create the cell below\n",
    "\n",
    "Once you run this cell, you should notice two things:\n",
    "\n",
    "1. A grey/blue bracketed number appears to the left of the code cell (e.g., `[1]`), indicating the order that you ran the cell in\n",
    "2. The statement that is normally printed to the terminal/console appears directly below the code cell\n",
    "\n",
    "Now, let's attempt a simple addition operation."
   ]
  },
  {
   "cell_type": "code",
   "execution_count": 2,
   "metadata": {
    "id": "Z1hNu83WM4aK",
    "outputId": "263b4094-4436-4325-eb5b-9a380656a71f"
   },
   "outputs": [
    {
     "data": {
      "text/plain": [
       "3"
      ]
     },
     "execution_count": 2,
     "metadata": {},
     "output_type": "execute_result"
    }
   ],
   "source": [
    "# Simple addition operation\n",
    "1 + 2"
   ]
  },
  {
   "cell_type": "markdown",
   "metadata": {
    "id": "5sGLU6rCM4aL"
   },
   "source": [
    "After you run the cell above, you should notice that a different type of output is presented: this time, the output is labeled *just like the input*. Code cells will capture the value of *the last operation* if it isn't stored somewhere else. This value is **complete separate** from any outputs when you use functions like `print()`! For example, let's try to combine some addition and print operations:"
   ]
  },
  {
   "cell_type": "code",
   "execution_count": 3,
   "metadata": {
    "id": "3Dv3hNPQM4aM",
    "outputId": "09ad003c-1c0b-4f43-bc4a-eff072b085c6"
   },
   "outputs": [
    {
     "name": "stdout",
     "output_type": "stream",
     "text": [
      "5\n"
     ]
    },
    {
     "data": {
      "text/plain": [
       "7"
      ]
     },
     "execution_count": 3,
     "metadata": {},
     "output_type": "execute_result"
    }
   ],
   "source": [
    "# Simple addition operation\n",
    "1 + 2\n",
    "\n",
    "# Print operation\n",
    "print(2 + 3)\n",
    "\n",
    "# Simple addition operation\n",
    "3 + 4"
   ]
  },
  {
   "cell_type": "markdown",
   "metadata": {
    "id": "EFKQ55SVM4aN"
   },
   "source": [
    "In this case, the notebook presents *two* outputs:\n",
    "\n",
    "1. The terminal output from the `print()` statement\n",
    "2. The output of the last operation\n",
    "\n",
    "Specifically, we lose the output of `1 + 2` because the following `3 + 4` operation overwrites it. If you want to capture the values of multiple operations, we will use a *variable*. Variables are essentially named containers where we can stores values for later use. If a value is not assigned to a variable, it will generally be  inaccessible once you move on to the next operation. In Jupyter notebooks, once you have initialized a variable, it is accessible from *any cell* in the notebook."
   ]
  },
  {
   "cell_type": "code",
   "execution_count": 4,
   "metadata": {
    "id": "Pf2P4eADM4aO",
    "outputId": "58b5e0df-2de3-4163-aaa9-30402b76343a"
   },
   "outputs": [
    {
     "data": {
      "text/plain": [
       "10"
      ]
     },
     "execution_count": 4,
     "metadata": {},
     "output_type": "execute_result"
    }
   ],
   "source": [
    "# Let's use variables to store two addition operations\n",
    "a = 1 + 2\n",
    "b = 3 + 4\n",
    "\n",
    "# We can use the variables within a code cell\n",
    "a + b"
   ]
  },
  {
   "cell_type": "code",
   "execution_count": 5,
   "metadata": {
    "id": "f2D9e6jOM4aO",
    "outputId": "5983f388-d246-4df3-b703-201852465bd2"
   },
   "outputs": [
    {
     "data": {
      "text/plain": [
       "10"
      ]
     },
     "execution_count": 5,
     "metadata": {},
     "output_type": "execute_result"
    }
   ],
   "source": [
    "# The variables are accessible after they are run\n",
    "a + b"
   ]
  },
  {
   "cell_type": "markdown",
   "metadata": {
    "id": "0bm3YqBQM4aP"
   },
   "source": [
    "Because you can access variables from any cell once you initialize them, it's essential to track what cells you ran and what order you ran them in. For example, the cells below are in intentionally reversed order (the variable declaration comes before). Running the cells in the provided order will result in an error:"
   ]
  },
  {
   "cell_type": "code",
   "execution_count": 8,
   "metadata": {
    "id": "RE8-cQzgM4aP",
    "outputId": "e56146ec-f097-4d24-e9b8-6b483b83d272"
   },
   "outputs": [
    {
     "name": "stdout",
     "output_type": "stream",
     "text": [
      "5\n"
     ]
    }
   ],
   "source": [
    "# When first run this should raise an error\n",
    "# because my_variable doesn't yet exist\n",
    "print(my_variable)"
   ]
  },
  {
   "cell_type": "code",
   "execution_count": 7,
   "metadata": {
    "id": "7mZ3JmzCM4aQ"
   },
   "outputs": [],
   "source": [
    "# Declaring my_variable\n",
    "my_variable = 5"
   ]
  },
  {
   "cell_type": "markdown",
   "metadata": {
    "id": "XVUmt03nM4aQ"
   },
   "source": [
    "However, you can run cells *in any order*, even if you have previously run them. For example, try running the first cell (contains `print(my_variable)`). Even though you haven't changed the relative ordering of the cells, once you run the second cell, the variable `my_variable` is now available to *every cell in the document*. One way to understand why this behavior occurs is to treat every code block as a small snippet of Python code that is constantly being copied and pasted in a Python interpreter.\n",
    "\n",
    "<caption><b>Figure 2:</b> Illustration of running order versus document order of the code blocks </caption>\n",
    "\n",
    "![](https://github.com/anthony-agbay/introduction-to-python/blob/main/modules/introduction-to-jupyter-notebooks/code-block-illustration.png?raw=1)\n",
    "\n",
    "If you would like to reset the environment, click on the Kernel/Runtime tab in the top menu bar. You can then select one of the \"Restart...\" options: \n",
    "\n",
    "1. Reset the environment (e.g., the variables, etc.), but don't remove any of the displayed code cell outputs\n",
    "2. Reset the environment (e.g., the variables, etc.) **and** remove all of the displayed code cell outputs"
   ]
  },
  {
   "cell_type": "markdown",
   "metadata": {
    "id": "jZ6Uk8CjM4aR"
   },
   "source": [
    "## Closing\n",
    "\n",
    "This module introduced the basic functionality and structure of a Jupyter notebook. While many more advanced tools are available, understanding the two primary cell types of a Jupyter notebook is essential for further learning and application. While the remaining modules of this guide will focus on the basics of Python, it will also introduce some of those advanced tools.\n",
    "\n",
    "---\n",
    "\n",
    "## Release Notes\n",
    "\n",
    "- **2021-04-19**\n",
    "    - Initial posting\n",
    "    \n",
    "---\n",
    "\n",
    "**[Return to the Introduction to Python Homepage](https://walkintheforest.com/Content/Introduction+to+Python/%F0%9F%90%8D+Introduction+to+Python)**"
   ]
  }
 ],
 "metadata": {
  "colab": {
   "provenance": []
  },
  "kernelspec": {
   "display_name": "Python 3 (ipykernel)",
   "language": "python",
   "name": "python3"
  },
  "language_info": {
   "codemirror_mode": {
    "name": "ipython",
    "version": 3
   },
   "file_extension": ".py",
   "mimetype": "text/x-python",
   "name": "python",
   "nbconvert_exporter": "python",
   "pygments_lexer": "ipython3",
   "version": "3.10.10"
  }
 },
 "nbformat": 4,
 "nbformat_minor": 4
}
